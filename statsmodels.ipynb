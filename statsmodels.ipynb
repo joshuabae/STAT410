{
 "cells": [
  {
   "cell_type": "code",
   "execution_count": 2,
   "metadata": {
    "collapsed": true,
    "pycharm": {
     "is_executing": false
    }
   },
   "outputs": [],
   "source": [
    "import os\n",
    "\n",
    "import import_ipynb\n",
    "import starting_out\n",
    "\n",
    "# data frame manipulation\n",
    "import numpy as np\n",
    "import pandas as pd\n",
    "from collections import defaultdict\n",
    "\n",
    "# visualization\n",
    "import matplotlib.pyplot as plt\n",
    "import seaborn as sns\n",
    "\n",
    "# statistics\n",
    "import scipy as sp\n",
    "from scipy import stats\n",
    "import statsmodels.api as sm\n",
    "from statsmodels.regression.linear_model import OLS\n",
    "os.chdir('C:/Users/jsbae/410project')"
   ]
  },
  {
   "cell_type": "code",
   "execution_count": 3,
   "outputs": [],
   "source": [
    "os.chdir('C:/Users/jsbae/410project/data')\n",
    "df = pd.DataFrame(pd.read_csv('Life Expectancy Data.csv'))"
   ],
   "metadata": {
    "collapsed": false,
    "pycharm": {
     "name": "#%%\n",
     "is_executing": false
    }
   }
  },
  {
   "cell_type": "code",
   "execution_count": 4,
   "outputs": [
    {
     "data": {
      "text/plain": "              Year  Life_Expectancy  Adult_Mortality  Infant_Deaths  \\\ncount  2938.000000      2938.000000      2938.000000    2938.000000   \nmean   2007.518720        69.234717       164.725664      30.303948   \nstd       4.613841         9.509115       124.086215     117.926501   \nmin    2000.000000        36.300000         1.000000       0.000000   \n25%    2004.000000        63.200000        74.000000       0.000000   \n50%    2008.000000        72.100000       144.000000       3.000000   \n75%    2012.000000        75.600000       227.000000      22.000000   \nmax    2015.000000        89.000000       723.000000    1800.000000   \n\n           Alcohol  Percentage_Exp   HepatitisB        Measles          BMI  \\\ncount  2938.000000     2938.000000  2938.000000    2938.000000  2938.000000   \nmean      4.546875      738.251295    83.022124    2419.592240    38.381178   \nstd       3.921946     1987.914858    22.996984   11467.272489    19.935375   \nmin       0.010000        0.000000     1.000000       0.000000     1.000000   \n25%       1.092500        4.685343    82.000000       0.000000    19.400000   \n50%       3.755000       64.912906    92.000000      17.000000    43.500000   \n75%       7.390000      441.534144    96.000000     360.250000    56.100000   \nmax      17.870000    19479.911610    99.000000  212183.000000    87.300000   \n\n       Under_Five_Deaths        Polio      Tot_Exp   Diphtheria     HIV/AIDS  \\\ncount        2938.000000  2938.000000  2938.000000  2938.000000  2938.000000   \nmean           42.035739    82.617767     5.924098    82.393125     1.742103   \nstd           160.445548    23.367166     2.400770    23.655562     5.077785   \nmin             0.000000     3.000000     0.370000     2.000000     0.100000   \n25%             0.000000    78.000000     4.370000    78.000000     0.100000   \n50%             4.000000    93.000000     5.755000    93.000000     0.100000   \n75%            28.000000    97.000000     7.330000    97.000000     0.800000   \nmax          2500.000000    99.000000    17.600000    99.000000    50.600000   \n\n                 GDP    Population  thinness_1to19_years  thinness_5to9_years  \\\ncount    2938.000000  2.938000e+03           2938.000000          2938.000000   \nmean     6611.523863  1.023085e+07              4.821886             4.852144   \nstd     13296.603449  5.402242e+07              4.397621             4.485854   \nmin         1.681350  3.400000e+01              0.100000             0.100000   \n25%       580.486996  4.189172e+05              1.600000             1.600000   \n50%      1766.947595  1.386542e+06              3.300000             3.300000   \n75%      4779.405190  4.584371e+06              7.100000             7.200000   \nmax    119172.741800  1.293859e+09             27.700000            28.600000   \n\n       Income_Comp_Of_Resources    Schooling  \ncount               2938.000000  2938.000000  \nmean                   0.630362    12.009837  \nstd                    0.205140     3.265139  \nmin                    0.000000     0.000000  \n25%                    0.504250    10.300000  \n50%                    0.677000    12.300000  \n75%                    0.772000    14.100000  \nmax                    0.948000    20.700000  ",
      "text/html": "<div>\n<style scoped>\n    .dataframe tbody tr th:only-of-type {\n        vertical-align: middle;\n    }\n\n    .dataframe tbody tr th {\n        vertical-align: top;\n    }\n\n    .dataframe thead th {\n        text-align: right;\n    }\n</style>\n<table border=\"1\" class=\"dataframe\">\n  <thead>\n    <tr style=\"text-align: right;\">\n      <th></th>\n      <th>Year</th>\n      <th>Life_Expectancy</th>\n      <th>Adult_Mortality</th>\n      <th>Infant_Deaths</th>\n      <th>Alcohol</th>\n      <th>Percentage_Exp</th>\n      <th>HepatitisB</th>\n      <th>Measles</th>\n      <th>BMI</th>\n      <th>Under_Five_Deaths</th>\n      <th>Polio</th>\n      <th>Tot_Exp</th>\n      <th>Diphtheria</th>\n      <th>HIV/AIDS</th>\n      <th>GDP</th>\n      <th>Population</th>\n      <th>thinness_1to19_years</th>\n      <th>thinness_5to9_years</th>\n      <th>Income_Comp_Of_Resources</th>\n      <th>Schooling</th>\n    </tr>\n  </thead>\n  <tbody>\n    <tr>\n      <td>count</td>\n      <td>2938.000000</td>\n      <td>2938.000000</td>\n      <td>2938.000000</td>\n      <td>2938.000000</td>\n      <td>2938.000000</td>\n      <td>2938.000000</td>\n      <td>2938.000000</td>\n      <td>2938.000000</td>\n      <td>2938.000000</td>\n      <td>2938.000000</td>\n      <td>2938.000000</td>\n      <td>2938.000000</td>\n      <td>2938.000000</td>\n      <td>2938.000000</td>\n      <td>2938.000000</td>\n      <td>2.938000e+03</td>\n      <td>2938.000000</td>\n      <td>2938.000000</td>\n      <td>2938.000000</td>\n      <td>2938.000000</td>\n    </tr>\n    <tr>\n      <td>mean</td>\n      <td>2007.518720</td>\n      <td>69.234717</td>\n      <td>164.725664</td>\n      <td>30.303948</td>\n      <td>4.546875</td>\n      <td>738.251295</td>\n      <td>83.022124</td>\n      <td>2419.592240</td>\n      <td>38.381178</td>\n      <td>42.035739</td>\n      <td>82.617767</td>\n      <td>5.924098</td>\n      <td>82.393125</td>\n      <td>1.742103</td>\n      <td>6611.523863</td>\n      <td>1.023085e+07</td>\n      <td>4.821886</td>\n      <td>4.852144</td>\n      <td>0.630362</td>\n      <td>12.009837</td>\n    </tr>\n    <tr>\n      <td>std</td>\n      <td>4.613841</td>\n      <td>9.509115</td>\n      <td>124.086215</td>\n      <td>117.926501</td>\n      <td>3.921946</td>\n      <td>1987.914858</td>\n      <td>22.996984</td>\n      <td>11467.272489</td>\n      <td>19.935375</td>\n      <td>160.445548</td>\n      <td>23.367166</td>\n      <td>2.400770</td>\n      <td>23.655562</td>\n      <td>5.077785</td>\n      <td>13296.603449</td>\n      <td>5.402242e+07</td>\n      <td>4.397621</td>\n      <td>4.485854</td>\n      <td>0.205140</td>\n      <td>3.265139</td>\n    </tr>\n    <tr>\n      <td>min</td>\n      <td>2000.000000</td>\n      <td>36.300000</td>\n      <td>1.000000</td>\n      <td>0.000000</td>\n      <td>0.010000</td>\n      <td>0.000000</td>\n      <td>1.000000</td>\n      <td>0.000000</td>\n      <td>1.000000</td>\n      <td>0.000000</td>\n      <td>3.000000</td>\n      <td>0.370000</td>\n      <td>2.000000</td>\n      <td>0.100000</td>\n      <td>1.681350</td>\n      <td>3.400000e+01</td>\n      <td>0.100000</td>\n      <td>0.100000</td>\n      <td>0.000000</td>\n      <td>0.000000</td>\n    </tr>\n    <tr>\n      <td>25%</td>\n      <td>2004.000000</td>\n      <td>63.200000</td>\n      <td>74.000000</td>\n      <td>0.000000</td>\n      <td>1.092500</td>\n      <td>4.685343</td>\n      <td>82.000000</td>\n      <td>0.000000</td>\n      <td>19.400000</td>\n      <td>0.000000</td>\n      <td>78.000000</td>\n      <td>4.370000</td>\n      <td>78.000000</td>\n      <td>0.100000</td>\n      <td>580.486996</td>\n      <td>4.189172e+05</td>\n      <td>1.600000</td>\n      <td>1.600000</td>\n      <td>0.504250</td>\n      <td>10.300000</td>\n    </tr>\n    <tr>\n      <td>50%</td>\n      <td>2008.000000</td>\n      <td>72.100000</td>\n      <td>144.000000</td>\n      <td>3.000000</td>\n      <td>3.755000</td>\n      <td>64.912906</td>\n      <td>92.000000</td>\n      <td>17.000000</td>\n      <td>43.500000</td>\n      <td>4.000000</td>\n      <td>93.000000</td>\n      <td>5.755000</td>\n      <td>93.000000</td>\n      <td>0.100000</td>\n      <td>1766.947595</td>\n      <td>1.386542e+06</td>\n      <td>3.300000</td>\n      <td>3.300000</td>\n      <td>0.677000</td>\n      <td>12.300000</td>\n    </tr>\n    <tr>\n      <td>75%</td>\n      <td>2012.000000</td>\n      <td>75.600000</td>\n      <td>227.000000</td>\n      <td>22.000000</td>\n      <td>7.390000</td>\n      <td>441.534144</td>\n      <td>96.000000</td>\n      <td>360.250000</td>\n      <td>56.100000</td>\n      <td>28.000000</td>\n      <td>97.000000</td>\n      <td>7.330000</td>\n      <td>97.000000</td>\n      <td>0.800000</td>\n      <td>4779.405190</td>\n      <td>4.584371e+06</td>\n      <td>7.100000</td>\n      <td>7.200000</td>\n      <td>0.772000</td>\n      <td>14.100000</td>\n    </tr>\n    <tr>\n      <td>max</td>\n      <td>2015.000000</td>\n      <td>89.000000</td>\n      <td>723.000000</td>\n      <td>1800.000000</td>\n      <td>17.870000</td>\n      <td>19479.911610</td>\n      <td>99.000000</td>\n      <td>212183.000000</td>\n      <td>87.300000</td>\n      <td>2500.000000</td>\n      <td>99.000000</td>\n      <td>17.600000</td>\n      <td>99.000000</td>\n      <td>50.600000</td>\n      <td>119172.741800</td>\n      <td>1.293859e+09</td>\n      <td>27.700000</td>\n      <td>28.600000</td>\n      <td>0.948000</td>\n      <td>20.700000</td>\n    </tr>\n  </tbody>\n</table>\n</div>"
     },
     "metadata": {},
     "output_type": "execute_result",
     "execution_count": 4
    }
   ],
   "source": [
    "df = starting_out.clean_data(df)\n",
    "# df = df.drop(columns=['Life_Expectancy'])\n",
    "df.describe()"
   ],
   "metadata": {
    "collapsed": false,
    "pycharm": {
     "name": "#%%\n",
     "is_executing": false
    }
   }
  },
  {
   "cell_type": "code",
   "execution_count": 5,
   "outputs": [
    {
     "name": "stdout",
     "text": [
      "      const  Year  Adult_Mortality  Infant_Deaths  Alcohol  Percentage_Exp  \\\n",
      "0       1.0  2015            263.0             62     0.01       71.279624   \n",
      "1       1.0  2014            271.0             64     0.01       73.523582   \n",
      "2       1.0  2013            268.0             66     0.01       73.219243   \n",
      "3       1.0  2012            272.0             69     0.01       78.184215   \n",
      "4       1.0  2011            275.0             71     0.01        7.097109   \n",
      "...     ...   ...              ...            ...      ...             ...   \n",
      "2933    1.0  2004            723.0             27     4.36        0.000000   \n",
      "2934    1.0  2003            715.0             26     4.06        0.000000   \n",
      "2935    1.0  2002             73.0             25     4.43        0.000000   \n",
      "2936    1.0  2001            686.0             25     1.72        0.000000   \n",
      "2937    1.0  2000            665.0             24     1.68        0.000000   \n",
      "\n",
      "      HepatitisB  Measles   BMI  Under_Five_Deaths  Polio  Tot_Exp  \\\n",
      "0           65.0     1154  19.1                 83    6.0     8.16   \n",
      "1           62.0      492  18.6                 86   58.0     8.18   \n",
      "2           64.0      430  18.1                 89   62.0     8.13   \n",
      "3           67.0     2787  17.6                 93   67.0     8.52   \n",
      "4           68.0     3013  17.2                 97   68.0     7.87   \n",
      "...          ...      ...   ...                ...    ...      ...   \n",
      "2933        68.0       31  27.1                 42   67.0     7.13   \n",
      "2934         7.0      998  26.7                 41    7.0     6.52   \n",
      "2935        73.0      304  26.3                 40   73.0     6.53   \n",
      "2936        76.0      529  25.9                 39   76.0     6.16   \n",
      "2937        79.0     1483  25.5                 39   78.0     7.10   \n",
      "\n",
      "      Diphtheria  HIV/AIDS         GDP  Population  thinness_1to19_years  \\\n",
      "0           65.0       0.1  584.259210  33736494.0                  17.2   \n",
      "1           62.0       0.1  612.696514    327582.0                  17.5   \n",
      "2           64.0       0.1  631.744976  31731688.0                  17.7   \n",
      "3           67.0       0.1  669.959000   3696958.0                  17.9   \n",
      "4           68.0       0.1   63.537231   2978599.0                  18.2   \n",
      "...          ...       ...         ...         ...                   ...   \n",
      "2933        65.0      33.6  454.366654  12777511.0                   9.4   \n",
      "2934        68.0      36.7  453.351155  12633897.0                   9.8   \n",
      "2935        71.0      39.8   57.348340    125525.0                   1.2   \n",
      "2936        75.0      42.1  548.587312  12366165.0                   1.6   \n",
      "2937        78.0      43.5  547.358879  12222251.0                  11.0   \n",
      "\n",
      "      thinness_5to9_years  Income_Comp_Of_Resources  Schooling  \n",
      "0                    17.3                     0.479       10.1  \n",
      "1                    17.5                     0.476       10.0  \n",
      "2                    17.7                     0.470        9.9  \n",
      "3                    18.0                     0.463        9.8  \n",
      "4                    18.2                     0.454        9.5  \n",
      "...                   ...                       ...        ...  \n",
      "2933                  9.4                     0.407        9.2  \n",
      "2934                  9.9                     0.418        9.5  \n",
      "2935                  1.3                     0.427       10.0  \n",
      "2936                  1.7                     0.427        9.8  \n",
      "2937                 11.2                     0.434        9.8  \n",
      "\n",
      "[2938 rows x 20 columns]\n"
     ],
     "output_type": "stream"
    },
    {
     "name": "stderr",
     "text": [
      "C:\\Users\\jsbae\\Anaconda3\\lib\\site-packages\\numpy\\core\\fromnumeric.py:2389: FutureWarning: Method .ptp is deprecated and will be removed in a future version. Use numpy.ptp instead.\n",
      "  return ptp(axis=axis, out=out, **kwargs)\n"
     ],
     "output_type": "stream"
    }
   ],
   "source": [
    "y = df.Life_Expectancy\n",
    "X = df.drop(columns=['Life_Expectancy'])\n",
    "X = sm.add_constant(X)\n",
    "print(X)"
   ],
   "metadata": {
    "collapsed": false,
    "pycharm": {
     "name": "#%%\n",
     "is_executing": false
    }
   }
  },
  {
   "cell_type": "code",
   "execution_count": 10,
   "outputs": [
    {
     "name": "stdout",
     "text": [
      "                            OLS Regression Results                            \n",
      "==============================================================================\n",
      "Dep. Variable:        Life_Expectancy   R-squared:                       0.818\n",
      "Model:                            OLS   Adj. R-squared:                  0.816\n",
      "Method:                 Least Squares   F-statistic:                     688.8\n",
      "Date:                Tue, 07 Apr 2020   Prob (F-statistic):               0.00\n",
      "Time:                        16:04:34   Log-Likelihood:                -8285.3\n",
      "No. Observations:                2938   AIC:                         1.661e+04\n",
      "Df Residuals:                    2918   BIC:                         1.673e+04\n",
      "Df Model:                          19                                         \n",
      "Covariance Type:            nonrobust                                         \n",
      "============================================================================================\n",
      "                               coef    std err          t      P>|t|      [0.025      0.975]\n",
      "--------------------------------------------------------------------------------------------\n",
      "const                       89.6011     35.007      2.560      0.011      20.960     158.242\n",
      "Year                        -0.0175      0.017     -0.998      0.318      -0.052       0.017\n",
      "Adult_Mortality             -0.0203      0.001    -25.491      0.000      -0.022      -0.019\n",
      "Infant_Deaths                0.0991      0.008     11.677      0.000       0.082       0.116\n",
      "Alcohol                      0.1142      0.025      4.636      0.000       0.066       0.162\n",
      "Percentage_Exp            7.134e-05    9.1e-05      0.784      0.433      -0.000       0.000\n",
      "HepatitisB                  -0.0154      0.004     -4.116      0.000      -0.023      -0.008\n",
      "Measles                  -2.089e-05    7.7e-06     -2.712      0.007    -3.6e-05   -5.79e-06\n",
      "BMI                          0.0439      0.005      8.880      0.000       0.034       0.054\n",
      "Under_Five_Deaths           -0.0741      0.006    -11.910      0.000      -0.086      -0.062\n",
      "Polio                        0.0286      0.004      6.387      0.000       0.020       0.037\n",
      "Tot_Exp                      0.0972      0.034      2.835      0.005       0.030       0.164\n",
      "Diphtheria                   0.0405      0.005      8.673      0.000       0.031       0.050\n",
      "HIV/AIDS                    -0.4737      0.018    -26.668      0.000      -0.509      -0.439\n",
      "GDP                       4.807e-05   1.39e-05      3.467      0.001    2.09e-05    7.52e-05\n",
      "Population               -3.672e-11    1.7e-09     -0.022      0.983   -3.37e-09    3.29e-09\n",
      "thinness_1to19_years        -0.0837      0.051     -1.653      0.098      -0.183       0.016\n",
      "thinness_5to9_years          0.0033      0.050      0.067      0.947      -0.095       0.101\n",
      "Income_Comp_Of_Resources     5.8889      0.639      9.220      0.000       4.637       7.141\n",
      "Schooling                    0.6756      0.042     16.105      0.000       0.593       0.758\n",
      "==============================================================================\n",
      "Omnibus:                      138.903   Durbin-Watson:                   0.719\n",
      "Prob(Omnibus):                  0.000   Jarque-Bera (JB):              402.601\n",
      "Skew:                          -0.190   Prob(JB):                     3.77e-88\n",
      "Kurtosis:                       4.773   Cond. No.                     2.56e+10\n",
      "==============================================================================\n",
      "\n",
      "Warnings:\n",
      "[1] Standard Errors assume that the covariance matrix of the errors is correctly specified.\n",
      "[2] The condition number is large, 2.56e+10. This might indicate that there are\n",
      "strong multicollinearity or other numerical problems.\n"
     ],
     "output_type": "stream"
    }
   ],
   "source": [
    "ols_model = sm.OLS(y, X)\n",
    "results = ols_model.fit()\n",
    "print(results.summary())"
   ],
   "metadata": {
    "collapsed": false,
    "pycharm": {
     "name": "#%%\n",
     "is_executing": false
    }
   }
  },
  {
   "cell_type": "code",
   "execution_count": 8,
   "outputs": [
    {
     "name": "stdout",
     "text": [
      "Parameters:  const                       8.960109e+01\n",
      "Year                       -1.745880e-02\n",
      "Adult_Mortality            -2.031695e-02\n",
      "Infant_Deaths               9.914004e-02\n",
      "Alcohol                     1.141960e-01\n",
      "Percentage_Exp              7.133959e-05\n",
      "HepatitisB                 -1.538398e-02\n",
      "Measles                    -2.089060e-05\n",
      "BMI                         4.390213e-02\n",
      "Under_Five_Deaths          -7.409879e-02\n",
      "Polio                       2.860891e-02\n",
      "Tot_Exp                     9.720247e-02\n",
      "Diphtheria                  4.054365e-02\n",
      "HIV/AIDS                   -4.737492e-01\n",
      "GDP                         4.806527e-05\n",
      "Population                 -3.671864e-11\n",
      "thinness_1to19_years       -8.370479e-02\n",
      "thinness_5to9_years         3.346593e-03\n",
      "Income_Comp_Of_Resources    5.888906e+00\n",
      "Schooling                   6.755877e-01\n",
      "dtype: float64\n",
      "R2:  0.8176756998402106\n"
     ],
     "output_type": "stream"
    }
   ],
   "source": [
    "print('Parameters: ', results.params)\n",
    "print('R2: ', results.rsquared)"
   ],
   "metadata": {
    "collapsed": false,
    "pycharm": {
     "name": "#%%\n",
     "is_executing": false
    }
   }
  },
  {
   "cell_type": "code",
   "execution_count": 16,
   "outputs": [],
   "source": [
    "elastic_model = ols_model.fit_regularized(method='elastic_net')\n",
    "# sqt_lasso_model = ols_model.fit_regularized(method='sqrt_lasso', alpha=0.0)\n",
    "\n",
    "elastic_results = ols_model.fit()\n",
    "# sqt_lasso_results = ols_model.fit()"
   ],
   "metadata": {
    "collapsed": false,
    "pycharm": {
     "name": "#%%\n",
     "is_executing": false
    }
   }
  },
  {
   "cell_type": "code",
   "execution_count": 17,
   "outputs": [
    {
     "name": "stdout",
     "text": [
      "                            OLS Regression Results                            \n",
      "==============================================================================\n",
      "Dep. Variable:        Life_Expectancy   R-squared:                       0.818\n",
      "Model:                            OLS   Adj. R-squared:                  0.816\n",
      "Method:                 Least Squares   F-statistic:                     688.8\n",
      "Date:                Tue, 07 Apr 2020   Prob (F-statistic):               0.00\n",
      "Time:                        16:08:07   Log-Likelihood:                -8285.3\n",
      "No. Observations:                2938   AIC:                         1.661e+04\n",
      "Df Residuals:                    2918   BIC:                         1.673e+04\n",
      "Df Model:                          19                                         \n",
      "Covariance Type:            nonrobust                                         \n",
      "============================================================================================\n",
      "                               coef    std err          t      P>|t|      [0.025      0.975]\n",
      "--------------------------------------------------------------------------------------------\n",
      "const                       89.6011     35.007      2.560      0.011      20.960     158.242\n",
      "Year                        -0.0175      0.017     -0.998      0.318      -0.052       0.017\n",
      "Adult_Mortality             -0.0203      0.001    -25.491      0.000      -0.022      -0.019\n",
      "Infant_Deaths                0.0991      0.008     11.677      0.000       0.082       0.116\n",
      "Alcohol                      0.1142      0.025      4.636      0.000       0.066       0.162\n",
      "Percentage_Exp            7.134e-05    9.1e-05      0.784      0.433      -0.000       0.000\n",
      "HepatitisB                  -0.0154      0.004     -4.116      0.000      -0.023      -0.008\n",
      "Measles                  -2.089e-05    7.7e-06     -2.712      0.007    -3.6e-05   -5.79e-06\n",
      "BMI                          0.0439      0.005      8.880      0.000       0.034       0.054\n",
      "Under_Five_Deaths           -0.0741      0.006    -11.910      0.000      -0.086      -0.062\n",
      "Polio                        0.0286      0.004      6.387      0.000       0.020       0.037\n",
      "Tot_Exp                      0.0972      0.034      2.835      0.005       0.030       0.164\n",
      "Diphtheria                   0.0405      0.005      8.673      0.000       0.031       0.050\n",
      "HIV/AIDS                    -0.4737      0.018    -26.668      0.000      -0.509      -0.439\n",
      "GDP                       4.807e-05   1.39e-05      3.467      0.001    2.09e-05    7.52e-05\n",
      "Population               -3.672e-11    1.7e-09     -0.022      0.983   -3.37e-09    3.29e-09\n",
      "thinness_1to19_years        -0.0837      0.051     -1.653      0.098      -0.183       0.016\n",
      "thinness_5to9_years          0.0033      0.050      0.067      0.947      -0.095       0.101\n",
      "Income_Comp_Of_Resources     5.8889      0.639      9.220      0.000       4.637       7.141\n",
      "Schooling                    0.6756      0.042     16.105      0.000       0.593       0.758\n",
      "==============================================================================\n",
      "Omnibus:                      138.903   Durbin-Watson:                   0.719\n",
      "Prob(Omnibus):                  0.000   Jarque-Bera (JB):              402.601\n",
      "Skew:                          -0.190   Prob(JB):                     3.77e-88\n",
      "Kurtosis:                       4.773   Cond. No.                     2.56e+10\n",
      "==============================================================================\n",
      "\n",
      "Warnings:\n",
      "[1] Standard Errors assume that the covariance matrix of the errors is correctly specified.\n",
      "[2] The condition number is large, 2.56e+10. This might indicate that there are\n",
      "strong multicollinearity or other numerical problems.\n",
      "\n",
      "\n",
      "Parameters:  const                       8.960109e+01\n",
      "Year                       -1.745880e-02\n",
      "Adult_Mortality            -2.031695e-02\n",
      "Infant_Deaths               9.914004e-02\n",
      "Alcohol                     1.141960e-01\n",
      "Percentage_Exp              7.133959e-05\n",
      "HepatitisB                 -1.538398e-02\n",
      "Measles                    -2.089060e-05\n",
      "BMI                         4.390213e-02\n",
      "Under_Five_Deaths          -7.409879e-02\n",
      "Polio                       2.860891e-02\n",
      "Tot_Exp                     9.720247e-02\n",
      "Diphtheria                  4.054365e-02\n",
      "HIV/AIDS                   -4.737492e-01\n",
      "GDP                         4.806527e-05\n",
      "Population                 -3.671864e-11\n",
      "thinness_1to19_years       -8.370479e-02\n",
      "thinness_5to9_years         3.346593e-03\n",
      "Income_Comp_Of_Resources    5.888906e+00\n",
      "Schooling                   6.755877e-01\n",
      "dtype: float64\n",
      "R2:  0.8176756998402106\n"
     ],
     "output_type": "stream"
    },
    {
     "data": {
      "text/plain": "\"\\nprint('\\n')\\nprint(sqt_lasso_results.summary())\\nprint('\\n')\\nprint('Parameters: ', results.params)\\nprint('R2: ', results.rsquared)\\n\""
     },
     "metadata": {},
     "output_type": "execute_result",
     "execution_count": 17
    }
   ],
   "source": [
    "print(elastic_results.summary())\n",
    "print('\\n')\n",
    "print('Parameters: ', results.params)\n",
    "print('R2: ', results.rsquared)\n",
    "'''\n",
    "print('\\n')\n",
    "print(sqt_lasso_results.summary())\n",
    "print('\\n')\n",
    "print('Parameters: ', results.params)\n",
    "print('R2: ', results.rsquared)\n",
    "'''"
   ],
   "metadata": {
    "collapsed": false,
    "pycharm": {
     "name": "#%%\n",
     "is_executing": false
    }
   }
  }
 ],
 "metadata": {
  "kernelspec": {
   "display_name": "Python 3",
   "language": "python",
   "name": "python3"
  },
  "language_info": {
   "codemirror_mode": {
    "name": "ipython",
    "version": 2
   },
   "file_extension": ".py",
   "mimetype": "text/x-python",
   "name": "python",
   "nbconvert_exporter": "python",
   "pygments_lexer": "ipython2",
   "version": "2.7.6"
  },
  "pycharm": {
   "stem_cell": {
    "cell_type": "raw",
    "source": [],
    "metadata": {
     "collapsed": false
    }
   }
  }
 },
 "nbformat": 4,
 "nbformat_minor": 0
}