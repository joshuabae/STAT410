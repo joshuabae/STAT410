{
 "cells": [
  {
   "cell_type": "code",
   "execution_count": 19,
   "metadata": {
    "collapsed": true,
    "pycharm": {
     "is_executing": false
    }
   },
   "outputs": [],
   "source": [
    "import os\n",
    "import numpy as np\n",
    "import pandas as pd\n",
    "from sklearn.model_selection import train_test_split\n",
    "from sklearn.ensemble import RandomForestRegressor\n",
    "from sklearn import metrics\n",
    "import import_ipynb\n",
    "import starting_out"
   ]
  },
  {
   "cell_type": "code",
   "execution_count": 23,
   "outputs": [
    {
     "data": {
      "text/plain": "              Year  Life_Expectancy  Adult_Mortality  Infant_Deaths  \\\ncount  2938.000000      2938.000000      2938.000000    2938.000000   \nmean   2007.518720        69.234717       164.725664      30.303948   \nstd       4.613841         9.509115       124.086215     117.926501   \nmin    2000.000000        36.300000         1.000000       0.000000   \n25%    2004.000000        63.200000        74.000000       0.000000   \n50%    2008.000000        72.100000       144.000000       3.000000   \n75%    2012.000000        75.600000       227.000000      22.000000   \nmax    2015.000000        89.000000       723.000000    1800.000000   \n\n           Alcohol  Percentage_Exp   HepatitisB        Measles          BMI  \\\ncount  2938.000000     2938.000000  2938.000000    2938.000000  2938.000000   \nmean      4.546875      738.251295    83.022124    2419.592240    38.381178   \nstd       3.921946     1987.914858    22.996984   11467.272489    19.935375   \nmin       0.010000        0.000000     1.000000       0.000000     1.000000   \n25%       1.092500        4.685343    82.000000       0.000000    19.400000   \n50%       3.755000       64.912906    92.000000      17.000000    43.500000   \n75%       7.390000      441.534144    96.000000     360.250000    56.100000   \nmax      17.870000    19479.911610    99.000000  212183.000000    87.300000   \n\n       Under_Five_Deaths        Polio      Tot_Exp   Diphtheria     HIV/AIDS  \\\ncount        2938.000000  2938.000000  2938.000000  2938.000000  2938.000000   \nmean           42.035739    82.617767     5.924098    82.393125     1.742103   \nstd           160.445548    23.367166     2.400770    23.655562     5.077785   \nmin             0.000000     3.000000     0.370000     2.000000     0.100000   \n25%             0.000000    78.000000     4.370000    78.000000     0.100000   \n50%             4.000000    93.000000     5.755000    93.000000     0.100000   \n75%            28.000000    97.000000     7.330000    97.000000     0.800000   \nmax          2500.000000    99.000000    17.600000    99.000000    50.600000   \n\n                 GDP    Population  thinness_1to19_years  thinness_5to9_years  \\\ncount    2938.000000  2.938000e+03           2938.000000          2938.000000   \nmean     6611.523863  1.023085e+07              4.821886             4.852144   \nstd     13296.603449  5.402242e+07              4.397621             4.485854   \nmin         1.681350  3.400000e+01              0.100000             0.100000   \n25%       580.486996  4.189172e+05              1.600000             1.600000   \n50%      1766.947595  1.386542e+06              3.300000             3.300000   \n75%      4779.405190  4.584371e+06              7.100000             7.200000   \nmax    119172.741800  1.293859e+09             27.700000            28.600000   \n\n       Income_Comp_Of_Resources    Schooling  \ncount               2938.000000  2938.000000  \nmean                   0.630362    12.009837  \nstd                    0.205140     3.265139  \nmin                    0.000000     0.000000  \n25%                    0.504250    10.300000  \n50%                    0.677000    12.300000  \n75%                    0.772000    14.100000  \nmax                    0.948000    20.700000  ",
      "text/html": "<div>\n<style scoped>\n    .dataframe tbody tr th:only-of-type {\n        vertical-align: middle;\n    }\n\n    .dataframe tbody tr th {\n        vertical-align: top;\n    }\n\n    .dataframe thead th {\n        text-align: right;\n    }\n</style>\n<table border=\"1\" class=\"dataframe\">\n  <thead>\n    <tr style=\"text-align: right;\">\n      <th></th>\n      <th>Year</th>\n      <th>Life_Expectancy</th>\n      <th>Adult_Mortality</th>\n      <th>Infant_Deaths</th>\n      <th>Alcohol</th>\n      <th>Percentage_Exp</th>\n      <th>HepatitisB</th>\n      <th>Measles</th>\n      <th>BMI</th>\n      <th>Under_Five_Deaths</th>\n      <th>Polio</th>\n      <th>Tot_Exp</th>\n      <th>Diphtheria</th>\n      <th>HIV/AIDS</th>\n      <th>GDP</th>\n      <th>Population</th>\n      <th>thinness_1to19_years</th>\n      <th>thinness_5to9_years</th>\n      <th>Income_Comp_Of_Resources</th>\n      <th>Schooling</th>\n    </tr>\n  </thead>\n  <tbody>\n    <tr>\n      <td>count</td>\n      <td>2938.000000</td>\n      <td>2938.000000</td>\n      <td>2938.000000</td>\n      <td>2938.000000</td>\n      <td>2938.000000</td>\n      <td>2938.000000</td>\n      <td>2938.000000</td>\n      <td>2938.000000</td>\n      <td>2938.000000</td>\n      <td>2938.000000</td>\n      <td>2938.000000</td>\n      <td>2938.000000</td>\n      <td>2938.000000</td>\n      <td>2938.000000</td>\n      <td>2938.000000</td>\n      <td>2.938000e+03</td>\n      <td>2938.000000</td>\n      <td>2938.000000</td>\n      <td>2938.000000</td>\n      <td>2938.000000</td>\n    </tr>\n    <tr>\n      <td>mean</td>\n      <td>2007.518720</td>\n      <td>69.234717</td>\n      <td>164.725664</td>\n      <td>30.303948</td>\n      <td>4.546875</td>\n      <td>738.251295</td>\n      <td>83.022124</td>\n      <td>2419.592240</td>\n      <td>38.381178</td>\n      <td>42.035739</td>\n      <td>82.617767</td>\n      <td>5.924098</td>\n      <td>82.393125</td>\n      <td>1.742103</td>\n      <td>6611.523863</td>\n      <td>1.023085e+07</td>\n      <td>4.821886</td>\n      <td>4.852144</td>\n      <td>0.630362</td>\n      <td>12.009837</td>\n    </tr>\n    <tr>\n      <td>std</td>\n      <td>4.613841</td>\n      <td>9.509115</td>\n      <td>124.086215</td>\n      <td>117.926501</td>\n      <td>3.921946</td>\n      <td>1987.914858</td>\n      <td>22.996984</td>\n      <td>11467.272489</td>\n      <td>19.935375</td>\n      <td>160.445548</td>\n      <td>23.367166</td>\n      <td>2.400770</td>\n      <td>23.655562</td>\n      <td>5.077785</td>\n      <td>13296.603449</td>\n      <td>5.402242e+07</td>\n      <td>4.397621</td>\n      <td>4.485854</td>\n      <td>0.205140</td>\n      <td>3.265139</td>\n    </tr>\n    <tr>\n      <td>min</td>\n      <td>2000.000000</td>\n      <td>36.300000</td>\n      <td>1.000000</td>\n      <td>0.000000</td>\n      <td>0.010000</td>\n      <td>0.000000</td>\n      <td>1.000000</td>\n      <td>0.000000</td>\n      <td>1.000000</td>\n      <td>0.000000</td>\n      <td>3.000000</td>\n      <td>0.370000</td>\n      <td>2.000000</td>\n      <td>0.100000</td>\n      <td>1.681350</td>\n      <td>3.400000e+01</td>\n      <td>0.100000</td>\n      <td>0.100000</td>\n      <td>0.000000</td>\n      <td>0.000000</td>\n    </tr>\n    <tr>\n      <td>25%</td>\n      <td>2004.000000</td>\n      <td>63.200000</td>\n      <td>74.000000</td>\n      <td>0.000000</td>\n      <td>1.092500</td>\n      <td>4.685343</td>\n      <td>82.000000</td>\n      <td>0.000000</td>\n      <td>19.400000</td>\n      <td>0.000000</td>\n      <td>78.000000</td>\n      <td>4.370000</td>\n      <td>78.000000</td>\n      <td>0.100000</td>\n      <td>580.486996</td>\n      <td>4.189172e+05</td>\n      <td>1.600000</td>\n      <td>1.600000</td>\n      <td>0.504250</td>\n      <td>10.300000</td>\n    </tr>\n    <tr>\n      <td>50%</td>\n      <td>2008.000000</td>\n      <td>72.100000</td>\n      <td>144.000000</td>\n      <td>3.000000</td>\n      <td>3.755000</td>\n      <td>64.912906</td>\n      <td>92.000000</td>\n      <td>17.000000</td>\n      <td>43.500000</td>\n      <td>4.000000</td>\n      <td>93.000000</td>\n      <td>5.755000</td>\n      <td>93.000000</td>\n      <td>0.100000</td>\n      <td>1766.947595</td>\n      <td>1.386542e+06</td>\n      <td>3.300000</td>\n      <td>3.300000</td>\n      <td>0.677000</td>\n      <td>12.300000</td>\n    </tr>\n    <tr>\n      <td>75%</td>\n      <td>2012.000000</td>\n      <td>75.600000</td>\n      <td>227.000000</td>\n      <td>22.000000</td>\n      <td>7.390000</td>\n      <td>441.534144</td>\n      <td>96.000000</td>\n      <td>360.250000</td>\n      <td>56.100000</td>\n      <td>28.000000</td>\n      <td>97.000000</td>\n      <td>7.330000</td>\n      <td>97.000000</td>\n      <td>0.800000</td>\n      <td>4779.405190</td>\n      <td>4.584371e+06</td>\n      <td>7.100000</td>\n      <td>7.200000</td>\n      <td>0.772000</td>\n      <td>14.100000</td>\n    </tr>\n    <tr>\n      <td>max</td>\n      <td>2015.000000</td>\n      <td>89.000000</td>\n      <td>723.000000</td>\n      <td>1800.000000</td>\n      <td>17.870000</td>\n      <td>19479.911610</td>\n      <td>99.000000</td>\n      <td>212183.000000</td>\n      <td>87.300000</td>\n      <td>2500.000000</td>\n      <td>99.000000</td>\n      <td>17.600000</td>\n      <td>99.000000</td>\n      <td>50.600000</td>\n      <td>119172.741800</td>\n      <td>1.293859e+09</td>\n      <td>27.700000</td>\n      <td>28.600000</td>\n      <td>0.948000</td>\n      <td>20.700000</td>\n    </tr>\n  </tbody>\n</table>\n</div>"
     },
     "metadata": {},
     "output_type": "execute_result",
     "execution_count": 23
    }
   ],
   "source": [
    "os.chdir('C:/Users/jsbae/410project/data')\n",
    "\n",
    "df = starting_out.clean_data(pd.DataFrame(pd.read_csv('Life Expectancy Data.csv')))\n",
    "df.describe()"
   ],
   "metadata": {
    "collapsed": false,
    "pycharm": {
     "name": "#%%\n",
     "is_executing": false
    }
   }
  },
  {
   "cell_type": "code",
   "execution_count": 3,
   "outputs": [],
   "source": [
    "y = df.Life_Expectancy\n",
    "X = df.drop(columns=['Life_Expectancy'])\n",
    "\n",
    "X_train, X_test, y_train, y_test = train_test_split(X, y, train_size=0.8)"
   ],
   "metadata": {
    "collapsed": false,
    "pycharm": {
     "name": "#%%\n",
     "is_executing": false
    }
   }
  },
  {
   "cell_type": "code",
   "execution_count": 4,
   "outputs": [
    {
     "data": {
      "text/plain": "RandomForestRegressor(bootstrap=True, criterion='mse', max_depth=None,\n                      max_features='auto', max_leaf_nodes=None,\n                      min_impurity_decrease=0.0, min_impurity_split=None,\n                      min_samples_leaf=1, min_samples_split=2,\n                      min_weight_fraction_leaf=0.0, n_estimators=1000,\n                      n_jobs=None, oob_score=False, random_state=42, verbose=0,\n                      warm_start=False)"
     },
     "metadata": {},
     "output_type": "execute_result",
     "execution_count": 4
    }
   ],
   "source": [
    "model = RandomForestRegressor(n_estimators = 1000, random_state = 42)\n",
    "model.fit(X_train, y_train)"
   ],
   "metadata": {
    "collapsed": false,
    "pycharm": {
     "name": "#%%\n",
     "is_executing": false
    }
   }
  },
  {
   "cell_type": "code",
   "execution_count": 22,
   "outputs": [
    {
     "name": "stdout",
     "text": [
      "Mean Absolute Error: 0.12421422584269319\n",
      "Mean Squared Error: 0.038371202136464506\n",
      "Coefficient of Determination R^2: 0.9616416730269357\n"
     ],
     "output_type": "stream"
    }
   ],
   "source": [
    "# Use the forest's predict method on the test data\n",
    "predictions = model.predict(X_test)\n",
    "\n",
    "# Calculate the absolute errors\n",
    "errors = abs(predictions - y_test)\n",
    "\n",
    "# Print out the mean squared error (MSE )\n",
    "print('Mean Absolute Error:', metrics.mean_absolute_error(y_test, predictions))\n",
    "print('Mean Squared Error:', metrics.mean_squared_error(predictions, y_test))\n",
    "print('Coefficient of Determination R^2:', model.score(X_test, y_test))"
   ],
   "metadata": {
    "collapsed": false,
    "pycharm": {
     "name": "#%%\n",
     "is_executing": false
    }
   }
  },
  {
   "cell_type": "code",
   "execution_count": 12,
   "outputs": [
    {
     "name": "stdout",
     "text": [
      "Accuracy: 53.92 %.\n"
     ],
     "output_type": "stream"
    },
    {
     "data": {
      "text/plain": "0.9616416730269357"
     },
     "metadata": {},
     "output_type": "execute_result",
     "execution_count": 12
    }
   ],
   "source": [
    "# Calculate mean absolute percentage error (MAPE)\n",
    "mape = abs(100 * (errors / y_test))\n",
    "\n",
    "# Calculate and display accuracy\n",
    "accuracy = 100 - np.mean(mape)\n",
    "\n",
    "print('Accuracy:', round(accuracy, 2), '%.')\n",
    "\n",
    "model.score(X_test, y_test)\n"
   ],
   "metadata": {
    "collapsed": false,
    "pycharm": {
     "name": "#%%\n",
     "is_executing": false
    }
   }
  },
  {
   "cell_type": "code",
   "execution_count": null,
   "outputs": [],
   "source": [
    "\n"
   ],
   "metadata": {
    "collapsed": false,
    "pycharm": {
     "name": "#%%\n"
    }
   }
  },
  {
   "cell_type": "code",
   "execution_count": null,
   "outputs": [],
   "source": [
    "\n"
   ],
   "metadata": {
    "collapsed": false,
    "pycharm": {
     "name": "#%%\n"
    }
   }
  },
  {
   "cell_type": "code",
   "execution_count": null,
   "outputs": [],
   "source": [
    "\n"
   ],
   "metadata": {
    "collapsed": false,
    "pycharm": {
     "name": "#%%\n"
    }
   }
  },
  {
   "cell_type": "code",
   "execution_count": null,
   "outputs": [],
   "source": [
    "\n"
   ],
   "metadata": {
    "collapsed": false,
    "pycharm": {
     "name": "#%%\n"
    }
   }
  },
  {
   "cell_type": "code",
   "execution_count": null,
   "outputs": [],
   "source": [
    "\n"
   ],
   "metadata": {
    "collapsed": false,
    "pycharm": {
     "name": "#%%\n"
    }
   }
  }
 ],
 "metadata": {
  "kernelspec": {
   "display_name": "Python 3",
   "language": "python",
   "name": "python3"
  },
  "language_info": {
   "codemirror_mode": {
    "name": "ipython",
    "version": 2
   },
   "file_extension": ".py",
   "mimetype": "text/x-python",
   "name": "python",
   "nbconvert_exporter": "python",
   "pygments_lexer": "ipython2",
   "version": "2.7.6"
  },
  "pycharm": {
   "stem_cell": {
    "cell_type": "raw",
    "source": [],
    "metadata": {
     "collapsed": false
    }
   }
  }
 },
 "nbformat": 4,
 "nbformat_minor": 0
}